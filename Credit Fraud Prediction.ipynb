{
 "cells": [
  {
   "cell_type": "markdown",
   "metadata": {},
   "source": [
    "## Plan\n",
    "\n",
    "### Data visualization\n",
    "    - fraud vs non fraud count (plot)\n",
    "    - frauds describe\n",
    "    - separate numerical and categorical data\n",
    "    - encode categorical data\n",
    "    - view pca \n",
    "\n",
    "### Data preprocessing\n",
    "    - remove/fill null values\n",
    "    - perform memory reduction\n",
    "    - what to do with categorical data ?\n",
    "    - how to handle imbalanced data\n",
    "        - over sampling or under sampling\n",
    "\n",
    "### Train and Predict\n",
    "\n",
    "### performance measure\n",
    "    - precision, recall, f1 score\n",
    "    - ROC curves"
   ]
  },
  {
   "cell_type": "markdown",
   "metadata": {},
   "source": [
    "## Utility methods"
   ]
  },
  {
   "cell_type": "code",
   "execution_count": 181,
   "metadata": {},
   "outputs": [],
   "source": [
    "def reduce_mem_usage(df):\n",
    "    numv = ['int8', 'int16', 'int32', 'int64', 'float16', 'float32', 'float64']\n",
    "    start_mem = df.memory_usage().sum() / 1024 ** 2\n",
    "    for col in df.columns:\n",
    "        vt = df[col].dtypes\n",
    "        if vt in numv:\n",
    "            max_c = df[col].max()\n",
    "            min_c = df[col].min()\n",
    "            if str(vt)[:3] == 'int':\n",
    "                if min_c > np.iinfo(np.int8).min and max_c < np.iinfo(np.int8).max:\n",
    "                    df[col] = df[col].astype(np.int8)\n",
    "                elif min_c > np.iinfo(np.int16).min and max_c < np.iinfo(np.int16).max:\n",
    "                    df[col] = df[col].astype(np.int16)\n",
    "                elif min_c > np.iinfo(np.int32).min and max_c < np.iinfo(np.int32).max:\n",
    "                    df[col] = df[col].astype(np.int32)\n",
    "                elif min_c > np.iinfo(np.int64).min and max_c < np.iinfo(np.int64).max:\n",
    "                    df[col] = df[col].astype(np.int64)\n",
    "            else:\n",
    "                if min_c > np.finfo(np.float16).min and max_c < np.finfo(np.float16).max:\n",
    "                    df[col] = df[col].astype(np.float16)\n",
    "                elif min_c > np.finfo(np.float32).min and max_c < np.finfo(np.float32).max:\n",
    "                    df[col] = df[col].astype(np.float32)\n",
    "                elif min_c > np.finfo(np.float64).min and max_c < np.finfo(np.float64).max:\n",
    "                    df[col] = df[col].astype(np.float64)\n",
    "    end_mem = df.memory_usage().sum() / 1024 ** 2\n",
    "    print('Mem. usage decreased to {:5.2f} Mb ({:.1f}% reduction)'.format(end_mem,\n",
    "                                                                          100 * (start_mem - end_mem) / start_mem))\n",
    "    return df\n",
    "\n",
    "def fill_na(df, int_filler=0, string_filler=\"\"):\n",
    "    for column in df.columns:\n",
    "        col_type = str(df[column].dtype)\n",
    "        if \"int\" or \"float\" in col_type:\n",
    "            df[column].fillna(int_filler, inplace=True)\n",
    "\n",
    "        if \"object\" in col_type:\n",
    "            df[column].fillna(string_filler, inplace=True)\n",
    "    return df\n",
    "\n",
    "def under_sample(features_df, target_df, sampling_strategy):\n",
    "    rus = RandomUnderSampler(random_state=111, sampling_strategy=sampling_strategy)\n",
    "    filtered_features_df, filtered_target_df = rus.fit_resample(features_df, target_df)\n",
    "    return pd.DataFrame(data=filtered_features_df, columns=features_df.columns.values), \\\n",
    "           pd.DataFrame(data=filtered_target_df, columns=target_df.columns.values)\n",
    "\n",
    "\n",
    "def change_data_type(target_df, source_df):\n",
    "    for col in target_df.columns:\n",
    "        target_df[col] = target_df[col].astype(source_df[col].dtype)\n",
    "    return target_df\n",
    "\n",
    "def perform_pca(df, num_of_components):\n",
    "    pca = PCA(n_components=num_of_components)\n",
    "    principal_components = pca.fit_transform(df)\n",
    "    print(\"explained_variance_ratio : \" + str(pca.explained_variance_ratio_))\n",
    "    return pd.DataFrame(data=principal_components, columns=['pc_' + str(x) for x in range(num_of_components)])\n",
    "\n",
    "def plot_confusion_matrix(confusion_matrix, class_names, fontsize=14):\n",
    "    \"\"\"\n",
    "    Prints a confusion matrix, as returned by sklearn.metrics.confusion_matrix, as a heatmap.\n",
    "\n",
    "    Parameters\n",
    "    ---------\n",
    "    confusion_matrix: numpy.ndarray\n",
    "        The numpy.ndarray object returned from a call to sklearn.metrics.confusion_matrix.\n",
    "    class_names: list\n",
    "        An ordered list of class names, in the order they index the given confusion matrix.\n",
    "    figsize: tuple\n",
    "        A 2-long tuple, the first value determining the horizontal size of the ouputted figure,\n",
    "        the second determining the vertical size. Defaults to (10,7).\n",
    "    fontsize: int\n",
    "        Font size for axes labels. Defaults to 14.\n",
    "\n",
    "    Returns\n",
    "    -------\n",
    "    matplotlib.figure.Figure\n",
    "        The resulting confusion matrix figure\n",
    "    \"\"\"\n",
    "    df_cm = pd.DataFrame(\n",
    "        confusion_matrix, index=class_names, columns=class_names,\n",
    "    )\n",
    "    fig = plt.figure()\n",
    "    try:\n",
    "        heatmap = sns.heatmap(df_cm, annot=True, fmt=\"d\")\n",
    "    except ValueError:\n",
    "        raise ValueError(\"Confusion matrix values must be integers.\")\n",
    "    heatmap.yaxis.set_ticklabels(heatmap.yaxis.get_ticklabels(), rotation=0, \\\n",
    "                                 ha='right', fontsize=fontsize)\n",
    "    heatmap.xaxis.set_ticklabels(heatmap.xaxis.get_ticklabels(), rotation=45, \\\n",
    "                                 ha='right', fontsize=fontsize)\n",
    "    plt.ylabel('True label')\n",
    "    plt.xlabel('Predicted label')\n"
   ]
  },
  {
   "cell_type": "markdown",
   "metadata": {},
   "source": [
    "## Data visualization and preprocessing"
   ]
  },
  {
   "cell_type": "code",
   "execution_count": 182,
   "metadata": {},
   "outputs": [],
   "source": [
    "import pandas as pd\n",
    "import matplotlib.pyplot as plt\n",
    "import seaborn as sns\n",
    "import numpy as np\n",
    "import seaborn as sns\n",
    "from sklearn.preprocessing import StandardScaler\n",
    "from sklearn.decomposition import PCA\n",
    "from imblearn.under_sampling import RandomUnderSampler\n",
    "sns.set()"
   ]
  },
  {
   "cell_type": "markdown",
   "metadata": {},
   "source": [
    "### Merge transaction and identity data"
   ]
  },
  {
   "cell_type": "code",
   "execution_count": 183,
   "metadata": {},
   "outputs": [],
   "source": [
    "train_transaction_df = pd.read_csv(\"data/train_transaction.csv\")\n",
    "train_identity_df = pd.read_csv(\"data/train_identity.csv\")\n",
    "train_df = pd.merge(train_transaction_df, train_identity_df, on='TransactionID', how='left')"
   ]
  },
  {
   "cell_type": "markdown",
   "metadata": {},
   "source": [
    "### Fraud vs Non Fraud\n",
    "    \n",
    "    - it shows that data is imbalanced"
   ]
  },
  {
   "cell_type": "code",
   "execution_count": 184,
   "metadata": {},
   "outputs": [
    {
     "data": {
      "text/plain": [
       "<matplotlib.axes._subplots.AxesSubplot at 0x7f56eb2cb048>"
      ]
     },
     "execution_count": 184,
     "metadata": {},
     "output_type": "execute_result"
    },
    {
     "data": {
      "image/png": "[encoded data removed]",
      "text/plain": [
       "<Figure size 432x288 with 1 Axes>"
      ]
     },
     "metadata": {},
     "output_type": "display_data"
    }
   ],
   "source": [
    "sns.countplot(x='isFraud', data=train_df)"
   ]
  },
  {
   "cell_type": "markdown",
   "metadata": {},
   "source": [
    "### Reduce memory usage"
   ]
  },
  {
   "cell_type": "code",
   "execution_count": 185,
   "metadata": {},
   "outputs": [
    {
     "name": "stdout",
     "output_type": "stream",
     "text": [
      "Mem. usage decreased to 670.48 Mb (66.1% reduction)\n"
     ]
    }
   ],
   "source": [
    "train_df = reduce_mem_usage(train_df)"
   ]
  },
  {
   "cell_type": "markdown",
   "metadata": {},
   "source": [
    "### Fill nan"
   ]
  },
  {
   "cell_type": "code",
   "execution_count": 186,
   "metadata": {},
   "outputs": [],
   "source": [
    "train_df = fill_na(train_df, int_filler=-9999)"
   ]
  },
  {
   "cell_type": "markdown",
   "metadata": {},
   "source": [
    "### Segregating feature and target data"
   ]
  },
  {
   "cell_type": "code",
   "execution_count": 187,
   "metadata": {},
   "outputs": [],
   "source": [
    "target_column = 'isFraud'\n",
    "target_df = train_df[[target_column]]\n",
    "feature_columns = set(train_df.columns) - {target_column}\n",
    "features_df = train_df[feature_columns]"
   ]
  },
  {
   "cell_type": "markdown",
   "metadata": {},
   "source": [
    "### Undersampling features and target"
   ]
  },
  {
   "cell_type": "code",
   "execution_count": 188,
   "metadata": {},
   "outputs": [],
   "source": [
    "sampled_features_df, target_df = under_sample(features_df, target_df, sampling_strategy = 1)\n",
    "sampled_features_df = change_data_type(sampled_features_df, features_df)"
   ]
  },
  {
   "cell_type": "markdown",
   "metadata": {},
   "source": [
    "### Separating numerical and categorical data"
   ]
  },
  {
   "cell_type": "code",
   "execution_count": 189,
   "metadata": {},
   "outputs": [],
   "source": [
    "numerical_features_df = sampled_features_df._get_numeric_data()\n",
    "categorical_features_df = sampled_features_df[feature_columns - set(numerical_features_df.columns)]"
   ]
  },
  {
   "cell_type": "code",
   "execution_count": 190,
   "metadata": {},
   "outputs": [
    {
     "name": "stdout",
     "output_type": "stream",
     "text": [
      "20663\n",
      "20663\n"
     ]
    }
   ],
   "source": [
    "print(len(target_df[target_df['isFraud'] == 1]))\n",
    "print(len(target_df[target_df['isFraud'] == 0]))"
   ]
  },
  {
   "cell_type": "markdown",
   "metadata": {},
   "source": [
    "### Encoding categorical data         "
   ]
  },
  {
   "cell_type": "code",
   "execution_count": 191,
   "metadata": {},
   "outputs": [],
   "source": [
    "encoded_categorical_features_df = pd.get_dummies(categorical_features_df)"
   ]
  },
  {
   "cell_type": "markdown",
   "metadata": {},
   "source": [
    "### Merging all features"
   ]
  },
  {
   "cell_type": "code",
   "execution_count": 192,
   "metadata": {},
   "outputs": [],
   "source": [
    "features_df = pd.concat((numerical_features_df, encoded_categorical_features_df), axis=1)"
   ]
  },
  {
   "cell_type": "markdown",
   "metadata": {},
   "source": [
    "## Training and prediction"
   ]
  },
  {
   "cell_type": "code",
   "execution_count": 193,
   "metadata": {},
   "outputs": [],
   "source": [
    "from sklearn.metrics import confusion_matrix, recall_score, accuracy_score\n",
    "from sklearn.model_selection import train_test_split\n",
    "import pandas as pd\n",
    "from sklearn.linear_model import LogisticRegression\n",
    "import matplotlib.pyplot as plt\n",
    "import seaborn as sns"
   ]
  },
  {
   "cell_type": "code",
   "execution_count": 194,
   "metadata": {},
   "outputs": [],
   "source": [
    "x_train, x_test, y_train, y_test = train_test_split(features_df, target_df, test_size=0.2)"
   ]
  },
  {
   "cell_type": "code",
   "execution_count": 195,
   "metadata": {},
   "outputs": [],
   "source": [
    "lr = LogisticRegression(random_state=111, solver='lbfgs',multi_class='ovr', max_iter = 250, n_jobs=-1).fit(x_train, y_train.values.ravel())"
   ]
  },
  {
   "cell_type": "code",
   "execution_count": 196,
   "metadata": {},
   "outputs": [],
   "source": [
    "y_pred = lr.predict(x_test)"
   ]
  },
  {
   "cell_type": "markdown",
   "metadata": {},
   "source": [
    "## Measuring performace"
   ]
  },
  {
   "cell_type": "code",
   "execution_count": 197,
   "metadata": {},
   "outputs": [
    {
     "name": "stdout",
     "output_type": "stream",
     "text": [
      "Recall score : 0.5298525501571187\n",
      "Accuracy score : 0.684974594725381\n"
     ]
    }
   ],
   "source": [
    "print(\"Recall score : \" + str(recall_score(y_test, y_pred)))\n",
    "print(\"Accuracy score : \" + str(accuracy_score(y_test, y_pred)))"
   ]
  },
  {
   "cell_type": "code",
   "execution_count": 198,
   "metadata": {},
   "outputs": [
    {
     "data": {
      "image/png": "[encoded data removed]",
      "text/plain": [
       "<Figure size 432x288 with 2 Axes>"
      ]
     },
     "metadata": {},
     "output_type": "display_data"
    }
   ],
   "source": [
    "confusion_mat = confusion_matrix(y_true=y_test, y_pred=y_pred)\n",
    "plot_confusion_matrix(confusion_mat, ['Not Fraud', 'Fraud'])"
   ]
  },
  {
   "cell_type": "markdown",
   "metadata": {},
   "source": [
    "## Next steps\n",
    "    - "
   ]
  }
 ],
 "metadata": {
  "kernelspec": {
   "display_name": "ml_credit_3.6",
   "language": "python",
   "name": "ml_credit_3.6"
  },
  "language_info": {
   "codemirror_mode": {
    "name": "ipython",
    "version": 3
   },
   "file_extension": ".py",
   "mimetype": "text/x-python",
   "name": "python",
   "nbconvert_exporter": "python",
   "pygments_lexer": "ipython3",
   "version": "3.6.9"
  }
 },
 "nbformat": 4,
 "nbformat_minor": 2
}
